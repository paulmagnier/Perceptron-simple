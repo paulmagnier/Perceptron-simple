{
 "cells": [
  {
   "cell_type": "code",
   "execution_count": 1,
   "metadata": {
    "colab": {},
    "colab_type": "code",
    "id": "YiM5Sz0_xtDm"
   },
   "outputs": [],
   "source": [
    "import numpy as np\n",
    "import matplotlib.pyplot as plt\n",
    "import random as rd\n",
    "from math import *"
   ]
  },
  {
   "cell_type": "markdown",
   "metadata": {
    "colab_type": "text",
    "id": "MoNmspQDx2-E"
   },
   "source": [
    "Implémentation de la combinaison linéaire entre les entrées e et les poids w."
   ]
  },
  {
   "cell_type": "code",
   "execution_count": 2,
   "metadata": {
    "colab": {},
    "colab_type": "code",
    "id": "fKErYZFpx2XM"
   },
   "outputs": [],
   "source": [
    "def combinaison_lineaire(e,w): \n",
    "    if len(e)==len(w):\n",
    "        S=0\n",
    "        for k in range(len(e)):\n",
    "            S+=e[k]*w[k]\n",
    "        return(S)\n",
    "    else:\n",
    "        return('error')"
   ]
  },
  {
   "cell_type": "markdown",
   "metadata": {
    "colab_type": "text",
    "id": "S7j_EhFIyGk6"
   },
   "source": [
    "Implémentation des fonctions nécessaires et de leurs dérivées."
   ]
  },
  {
   "cell_type": "code",
   "execution_count": 3,
   "metadata": {
    "colab": {},
    "colab_type": "code",
    "id": "V4m_rtRDyPLY"
   },
   "outputs": [],
   "source": [
    "def sigmoide(x): \n",
    "    return(1/(1+exp(-x)))"
   ]
  },
  {
   "cell_type": "code",
   "execution_count": 4,
   "metadata": {
    "colab": {},
    "colab_type": "code",
    "id": "pPv2lnHpyTEf"
   },
   "outputs": [],
   "source": [
    "def sigmoidederive(x):\n",
    "    return(exp(-x)*(sigmoide(x)**2))"
   ]
  },
  {
   "cell_type": "code",
   "execution_count": 5,
   "metadata": {
    "colab": {},
    "colab_type": "code",
    "id": "QRAezBb2yXjS"
   },
   "outputs": [],
   "source": [
    "def identite(x):\n",
    "    return(x)"
   ]
  },
  {
   "cell_type": "code",
   "execution_count": 6,
   "metadata": {
    "colab": {},
    "colab_type": "code",
    "id": "aZOxdKhGybpL"
   },
   "outputs": [],
   "source": [
    "def identitederive(x):\n",
    "  return(1)"
   ]
  },
  {
   "cell_type": "markdown",
   "metadata": {
    "colab_type": "text",
    "id": "LlMnKQbBfLVY"
   },
   "source": [
    "Implémentation de la fonction qui calcule l'écart $S_{voulue}$ et $S_{obtenue}$."
   ]
  },
  {
   "cell_type": "code",
   "execution_count": 7,
   "metadata": {
    "colab": {},
    "colab_type": "code",
    "id": "8-cq66O2-lbd"
   },
   "outputs": [],
   "source": [
    "def MSEloss(yprevu,y):\n",
    "  return((1/2)*((yprevu-y)**2))"
   ]
  },
  {
   "cell_type": "code",
   "execution_count": 8,
   "metadata": {
    "colab": {},
    "colab_type": "code",
    "id": "zNv-6OufxZfD"
   },
   "outputs": [],
   "source": [
    "def MSEderive(yprevu,y):\n",
    "  return(yprevu-y)"
   ]
  },
  {
   "cell_type": "markdown",
   "metadata": {
    "colab_type": "text",
    "id": "BNcbjH3Vyz1e"
   },
   "source": [
    "Implémentation de la fonction qui classe les données."
   ]
  },
  {
   "cell_type": "code",
   "execution_count": 9,
   "metadata": {
    "colab": {},
    "colab_type": "code",
    "id": "gLR5jZohzJmb"
   },
   "outputs": [],
   "source": [
    "def decision(seuil,y):\n",
    "    if y<=seuil:\n",
    "        return 0\n",
    "    else:\n",
    "        return 1"
   ]
  },
  {
   "cell_type": "markdown",
   "metadata": {
    "colab_type": "text",
    "id": "qh-6tbTG0n6k"
   },
   "source": [
    "Création d'une base de données vérifiant une règle"
   ]
  },
  {
   "cell_type": "code",
   "execution_count": 10,
   "metadata": {
    "colab": {},
    "colab_type": "code",
    "id": "5yveA3-R1QpJ"
   },
   "outputs": [],
   "source": [
    "def f(x):\n",
    "    return(-3*x**2+4)"
   ]
  },
  {
   "cell_type": "code",
   "execution_count": 11,
   "metadata": {
    "colab": {},
    "colab_type": "code",
    "id": "nMojDQfm0nn9"
   },
   "outputs": [],
   "source": [
    "def data(n,biais):\n",
    "    L=[]\n",
    "    for k in range (n):\n",
    "        G=[biais]\n",
    "        x1=rd.uniform(-10,10)\n",
    "        G.append(x1)\n",
    "        x2=rd.uniform(-10,10)\n",
    "        G.append(x2)\n",
    "        if x2<f(x1):\n",
    "            G.append(0)\n",
    "        else:\n",
    "            G.append(1)\n",
    "        L.append(G)\n",
    "    return(L)  "
   ]
  },
  {
   "cell_type": "markdown",
   "metadata": {
    "colab_type": "text",
    "id": "-fAmcIBczQlk"
   },
   "source": [
    "Implémentation de la fonction d'entraînement qui renvoie les poids optimaux et l'erreur moyenne.\n",
    "\n",
    "Rappel : pour modifier les poids, on utilise la formule $w_{new}=w_{old}-lr*\\frac{\\partial L}{\\partial w_{old}}$\n",
    "\n",
    "Pour calculer cette dérivée partielle, on utilise la chain rule : si la combinaison linéaire des entrées $e$ en utilisant les poids $w$ s'écrit $C$ et le passage de C par la fonction d'activation s'écrit $f_a(C) = Y$, on a : $$\\frac{\\partial L}{\\partial w_i} = \\frac{\\partial L}{\\partial Y}*\\frac{\\partial Y}{\\partial C}*\\frac{\\partial C}{\\partial w_i}$$\n",
    "\n",
    "Où chacun des termes de ce produit est très simple à évaluer."
   ]
  },
  {
   "cell_type": "code",
   "execution_count": 12,
   "metadata": {
    "colab": {},
    "colab_type": "code",
    "id": "X5yAamAd2k5Y"
   },
   "outputs": [],
   "source": [
    "w=[rd.uniform(0,1),rd.uniform(0,1),rd.randint(0,1)]\n",
    "def entrainement(data,seuil, tauxapprentissage,activation,activationderive,loss_func,lossderive,w):\n",
    "    epoch_loss = 0\n",
    "    for k in range(len(data)):\n",
    "        entree=[data[k][0],data[k][1],data[k][2]]\n",
    "        X=combinaison_lineaire(entree,w)\n",
    "        Y=activation(X)\n",
    "        epoch_loss+=loss_func(data[k][3],Y)\n",
    "        g=w[:]\n",
    "        w=[]\n",
    "        for i in range (len(g)):\n",
    "            wnew=g[i]+tauxapprentissage*entree[i]*activationderive(X)*lossderive(data[k][3],Y)\n",
    "            w.append(wnew)            \n",
    "    return(w,epoch_loss/len(data))\n",
    "  "
   ]
  },
  {
   "cell_type": "markdown",
   "metadata": {
    "colab_type": "text",
    "id": "IrVAQ5vZ21bu"
   },
   "source": [
    "Implémentation de la fonction \"execute\" qui utilise le Perceptron pour prédire la sortie en fonction des entrées et des poids optimaux. Cette fonction renvoie une liste des sorties et l'erreur moyenne."
   ]
  },
  {
   "cell_type": "code",
   "execution_count": 13,
   "metadata": {
    "colab": {},
    "colab_type": "code",
    "id": "xyXy6Ay73sHQ"
   },
   "outputs": [],
   "source": [
    "def execute(data,w,activation):\n",
    "    result=[]\n",
    "    result_loss=0\n",
    "    for k in range(len(data)):\n",
    "        entree=[data[k][0],data[k][1],data[k][2]]\n",
    "        X=combinaison_lineaire(w,entree)\n",
    "        Y=activation(X)\n",
    "        yprevu=decision(0.5,Y)\n",
    "        result_loss+=MSEloss(Y,data[k][3])\n",
    "        result.append(yprevu)\n",
    "    return(result,result_loss/len(data))"
   ]
  },
  {
   "cell_type": "markdown",
   "metadata": {
    "colab_type": "text",
    "id": "BWqqnNRi36Ff"
   },
   "source": [
    "Implémentation de la fonction qui calcule le taux de réussite."
   ]
  },
  {
   "cell_type": "code",
   "execution_count": 0,
   "metadata": {
    "colab": {},
    "colab_type": "code",
    "id": "K-h3FK4L4LjY"
   },
   "outputs": [],
   "source": [
    "def tauxreussite(L,M):\n",
    "    n=len(L)\n",
    "    compteur=0\n",
    "    for k in range(len(L)):\n",
    "        if L[k]==M[k]:\n",
    "            compteur=compteur+1\n",
    "    return(compteur/n)"
   ]
  },
  {
   "cell_type": "markdown",
   "metadata": {
    "colab_type": "text",
    "id": "TdtJyDyU4R88"
   },
   "source": [
    "Programme principal"
   ]
  },
  {
   "cell_type": "markdown",
   "metadata": {
    "colab_type": "text",
    "id": "MTAuD9An4WOb"
   },
   "source": [
    "On peut faire varier différents paramètres."
   ]
  },
  {
   "cell_type": "code",
   "execution_count": 0,
   "metadata": {
    "colab": {},
    "colab_type": "code",
    "id": "gL98q2-44a9W"
   },
   "outputs": [],
   "source": [
    "biais=1\n",
    "tauxapprentissage=0.001\n",
    "seuil=0.5\n",
    "activation=sigmoide\n",
    "activationderive=sigmoidederive\n",
    "loss_func=MSEloss\n",
    "lossderive=MSEderive\n",
    "ntrain=10000\n",
    "ntest=1000\n",
    "epoch=250"
   ]
  },
  {
   "cell_type": "code",
   "execution_count": 0,
   "metadata": {
    "colab": {
     "base_uri": "https://localhost:8080/",
     "height": 810
    },
    "colab_type": "code",
    "executionInfo": {
     "elapsed": 16468,
     "status": "ok",
     "timestamp": 1582031874390,
     "user": {
      "displayName": "Huile Colza",
      "photoUrl": "",
      "userId": "01996614489369070894"
     },
     "user_tz": -60
    },
    "id": "6CLydRT24kBT",
    "outputId": "037d65e7-32cc-4518-8942-bd69402aa831"
   },
   "outputs": [
    {
     "name": "stdout",
     "output_type": "stream",
     "text": [
      "Taux de reconnaissance : 0.998\n"
     ]
    },
    {
     "data": {
      "image/png": "[encoded data removed]",
      "text/plain": [
       "<Figure size 432x288 with 1 Axes>"
      ]
     },
     "metadata": {
      "tags": []
     },
     "output_type": "display_data"
    },
    {
     "data": {
      "image/png": "[encoded data removed]",
      "text/plain": [
       "<Figure size 432x288 with 1 Axes>"
      ]
     },
     "metadata": {
      "tags": []
     },
     "output_type": "display_data"
    },
    {
     "data": {
      "image/png": "[encoded data removed]",
      "text/plain": [
       "<Figure size 432x288 with 1 Axes>"
      ]
     },
     "metadata": {
      "tags": []
     },
     "output_type": "display_data"
    }
   ],
   "source": [
    "datatrain=data(ntrain,biais)\n",
    "datatest=data(ntest,biais)\n",
    "w=[rd.uniform(0,1),rd.uniform(0,1),rd.randint(0,1)]\n",
    "train_loss=[]\n",
    "test_loss=[]\n",
    "\n",
    "for i in range(epoch):\n",
    "  w,epoch_loss=entrainement(datatrain,seuil,tauxapprentissage,activation,activationderive,loss_func,lossderive,w)\n",
    "  train_loss.append(epoch_loss)\n",
    "  test_loss.append(execute(datatest,w,activation)[1])\n",
    "\n",
    "x=[i for i in range(epoch)]\n",
    "\n",
    "plt.figure()\n",
    "\n",
    "plt.plot(x,train_loss,'r+',label=\"Training loss\")\n",
    "plt.plot(x,test_loss,'b+',label=\"Testing loss\")\n",
    "plt.legend()\n",
    "\n",
    "yprevu,_=execute(datatest,w,activation)\n",
    "ytest=[datatest[k][-1] for k in range(len(datatest))]\n",
    "t=np.linspace(-10,10,2000)\n",
    "y=[f(k) for k in t]\n",
    "print('Taux de reconnaissance :', tauxreussite(ytest,yprevu))\n",
    "\n",
    "\n",
    "plt.figure()\n",
    "\n",
    "plt.plot(t,y,color='k',linewidth=2)\n",
    "for k in range (len(datatest)):\n",
    "    if ytest[k]==1:\n",
    "        plt.plot(datatest[k][1],datatest[k][2],'b+')\n",
    "    else:\n",
    "        plt.plot(datatest[k][1],datatest[k][2],'rx')\n",
    "\n",
    "\n",
    "plt.title(\"Base de données test\")\n",
    "plt.xlim(-10,10)\n",
    "plt.ylim(-10,10)\n",
    "plt.figure()\n",
    "\n",
    "plt.plot(t,y,color='k',linewidth=2)\n",
    "for k in range (len(datatest)):\n",
    "    if yprevu[k]==1:\n",
    "        plt.plot(datatest[k][1],datatest[k][2],'b+')\n",
    "    else:\n",
    "        plt.plot(datatest[k][1],datatest[k][2],'rx')\n",
    "\n",
    "plt.title(\"Classification du Perceptron\")\n",
    "plt.xlim(-10,10)\n",
    "plt.ylim(-10,10)\n",
    "\n",
    "plt.show()"
   ]
  }
 ],
 "metadata": {
  "colab": {
   "collapsed_sections": [],
   "name": "Corrigé TP perceptron .ipynb",
   "provenance": []
  },
  "kernelspec": {
   "display_name": "Python 3",
   "language": "python",
   "name": "python3"
  },
  "language_info": {
   "codemirror_mode": {
    "name": "ipython",
    "version": 3
   },
   "file_extension": ".py",
   "mimetype": "text/x-python",
   "name": "python",
   "nbconvert_exporter": "python",
   "pygments_lexer": "ipython3",
   "version": "3.7.3"
  }
 },
 "nbformat": 4,
 "nbformat_minor": 1
}
